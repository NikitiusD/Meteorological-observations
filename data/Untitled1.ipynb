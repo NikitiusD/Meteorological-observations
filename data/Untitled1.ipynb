{
 "cells": [
  {
   "cell_type": "code",
   "execution_count": 1,
   "metadata": {},
   "outputs": [],
   "source": [
    "import pandas as pd\n",
    "import re\n",
    "from functools import reduce"
   ]
  },
  {
   "cell_type": "code",
   "execution_count": 2,
   "metadata": {},
   "outputs": [],
   "source": [
    "cities = ['Atlanta', 'Boston', 'Chicago', 'Detroit', 'Los Angeles', 'Miami', 'New York', 'Seattle']"
   ]
  },
  {
   "cell_type": "code",
   "execution_count": 3,
   "metadata": {},
   "outputs": [
    {
     "name": "stdout",
     "output_type": "stream",
     "text": [
      "Index(['City', 'Country', 'Latitude', 'Longitude'], dtype='object')\n"
     ]
    },
    {
     "data": {
      "text/html": [
       "<div>\n",
       "<style scoped>\n",
       "    .dataframe tbody tr th:only-of-type {\n",
       "        vertical-align: middle;\n",
       "    }\n",
       "\n",
       "    .dataframe tbody tr th {\n",
       "        vertical-align: top;\n",
       "    }\n",
       "\n",
       "    .dataframe thead th {\n",
       "        text-align: right;\n",
       "    }\n",
       "</style>\n",
       "<table border=\"1\" class=\"dataframe\">\n",
       "  <thead>\n",
       "    <tr style=\"text-align: right;\">\n",
       "      <th></th>\n",
       "      <th>city</th>\n",
       "      <th>country</th>\n",
       "      <th>lat</th>\n",
       "      <th>lon</th>\n",
       "    </tr>\n",
       "  </thead>\n",
       "  <tbody>\n",
       "    <tr>\n",
       "      <th>0</th>\n",
       "      <td>Seattle</td>\n",
       "      <td>United States</td>\n",
       "      <td>47.606209</td>\n",
       "      <td>-122.332069</td>\n",
       "    </tr>\n",
       "    <tr>\n",
       "      <th>1</th>\n",
       "      <td>Los Angeles</td>\n",
       "      <td>United States</td>\n",
       "      <td>34.052231</td>\n",
       "      <td>-118.243683</td>\n",
       "    </tr>\n",
       "    <tr>\n",
       "      <th>2</th>\n",
       "      <td>Chicago</td>\n",
       "      <td>United States</td>\n",
       "      <td>41.850029</td>\n",
       "      <td>-87.650047</td>\n",
       "    </tr>\n",
       "    <tr>\n",
       "      <th>3</th>\n",
       "      <td>Atlanta</td>\n",
       "      <td>United States</td>\n",
       "      <td>33.749001</td>\n",
       "      <td>-84.387978</td>\n",
       "    </tr>\n",
       "    <tr>\n",
       "      <th>4</th>\n",
       "      <td>Detroit</td>\n",
       "      <td>United States</td>\n",
       "      <td>42.331429</td>\n",
       "      <td>-83.045753</td>\n",
       "    </tr>\n",
       "    <tr>\n",
       "      <th>5</th>\n",
       "      <td>Miami</td>\n",
       "      <td>United States</td>\n",
       "      <td>25.774269</td>\n",
       "      <td>-80.193657</td>\n",
       "    </tr>\n",
       "    <tr>\n",
       "      <th>6</th>\n",
       "      <td>New York</td>\n",
       "      <td>United States</td>\n",
       "      <td>40.714272</td>\n",
       "      <td>-74.005966</td>\n",
       "    </tr>\n",
       "    <tr>\n",
       "      <th>7</th>\n",
       "      <td>Boston</td>\n",
       "      <td>United States</td>\n",
       "      <td>42.358429</td>\n",
       "      <td>-71.059769</td>\n",
       "    </tr>\n",
       "  </tbody>\n",
       "</table>\n",
       "</div>"
      ],
      "text/plain": [
       "          city        country        lat         lon\n",
       "0      Seattle  United States  47.606209 -122.332069\n",
       "1  Los Angeles  United States  34.052231 -118.243683\n",
       "2      Chicago  United States  41.850029  -87.650047\n",
       "3      Atlanta  United States  33.749001  -84.387978\n",
       "4      Detroit  United States  42.331429  -83.045753\n",
       "5        Miami  United States  25.774269  -80.193657\n",
       "6     New York  United States  40.714272  -74.005966\n",
       "7       Boston  United States  42.358429  -71.059769"
      ]
     },
     "execution_count": 3,
     "metadata": {},
     "output_type": "execute_result"
    }
   ],
   "source": [
    "city = pd.read_csv('city_attributes_.csv', index_col=0)\n",
    "print(city.columns)\n",
    "city.columns = ['city', 'country', 'lat', 'lon']\n",
    "city"
   ]
  },
  {
   "cell_type": "code",
   "execution_count": 4,
   "metadata": {},
   "outputs": [],
   "source": [
    "def format_str(x):\n",
    "    new_str = ''\n",
    "    for i, c in enumerate(x):\n",
    "        if c == '\"' and (x[i-1] in '{,' or x[i+1] == ':'):\n",
    "            continue\n",
    "        new_str += c\n",
    "    return new_str"
   ]
  },
  {
   "cell_type": "code",
   "execution_count": 5,
   "metadata": {},
   "outputs": [
    {
     "data": {
      "text/plain": [
       "'[{city:\"Seattle\",country:\"United States\",lat:47.606209,lon:-122.332069},{city:\"Los Angeles\",country:\"United States\",lat:34.052231,lon:-118.243683},{city:\"Chicago\",country:\"United States\",lat:41.850029,lon:-87.650047},{city:\"Atlanta\",country:\"United States\",lat:33.749001,lon:-84.387978},{city:\"Detroit\",country:\"United States\",lat:42.331429,lon:-83.045753},{city:\"Miami\",country:\"United States\",lat:25.774269,lon:-80.193657},{city:\"New York\",country:\"United States\",lat:40.714272,lon:-74.005966},{city:\"Boston\",country:\"United States\",lat:42.358429,lon:-71.059769}]'"
      ]
     },
     "execution_count": 5,
     "metadata": {},
     "output_type": "execute_result"
    }
   ],
   "source": [
    "format_str(city.to_json(orient='records'))"
   ]
  },
  {
   "cell_type": "code",
   "execution_count": 6,
   "metadata": {
    "scrolled": true
   },
   "outputs": [],
   "source": [
    "temperature = pd.read_csv('temperature_.csv', index_col=0)\n",
    "temperature = pd.melt(temperature, id_vars=['date'], value_vars=cities, var_name='city', value_name='temperature')\n",
    "temperature['temperature'] = temperature['temperature'] - 273.15"
   ]
  },
  {
   "cell_type": "code",
   "execution_count": 7,
   "metadata": {
    "scrolled": true
   },
   "outputs": [],
   "source": [
    "humidity = pd.read_csv('humidity_.csv', index_col=0)\n",
    "humidity = pd.melt(humidity, id_vars=['date'], value_vars=cities, var_name='city', value_name='humidity')"
   ]
  },
  {
   "cell_type": "code",
   "execution_count": 8,
   "metadata": {},
   "outputs": [],
   "source": [
    "pressure = pd.read_csv('pressure_.csv', index_col=0)\n",
    "pressure = pd.melt(pressure, id_vars=['date'], value_vars=cities, var_name='city', value_name='pressure')"
   ]
  },
  {
   "cell_type": "code",
   "execution_count": 9,
   "metadata": {},
   "outputs": [],
   "source": [
    "wind_direction = pd.read_csv('wind_direction_.csv', index_col=0)\n",
    "wind_direction = pd.melt(wind_direction, id_vars=['date'], value_vars=cities, var_name='city', value_name='wind_direction')"
   ]
  },
  {
   "cell_type": "code",
   "execution_count": 10,
   "metadata": {},
   "outputs": [],
   "source": [
    "wind_speed = pd.read_csv('wind_speed_.csv', index_col=0)\n",
    "wind_speed = pd.melt(wind_speed, id_vars=['date'], value_vars=cities, var_name='city', value_name='wind_speed')"
   ]
  },
  {
   "cell_type": "code",
   "execution_count": 11,
   "metadata": {},
   "outputs": [
    {
     "name": "stdout",
     "output_type": "stream",
     "text": [
      "(278, 7)\n"
     ]
    },
    {
     "data": {
      "text/html": [
       "<div>\n",
       "<style scoped>\n",
       "    .dataframe tbody tr th:only-of-type {\n",
       "        vertical-align: middle;\n",
       "    }\n",
       "\n",
       "    .dataframe tbody tr th {\n",
       "        vertical-align: top;\n",
       "    }\n",
       "\n",
       "    .dataframe thead th {\n",
       "        text-align: right;\n",
       "    }\n",
       "</style>\n",
       "<table border=\"1\" class=\"dataframe\">\n",
       "  <thead>\n",
       "    <tr style=\"text-align: right;\">\n",
       "      <th></th>\n",
       "      <th>date</th>\n",
       "      <th>city</th>\n",
       "      <th>temperature</th>\n",
       "      <th>humidity</th>\n",
       "      <th>pressure</th>\n",
       "      <th>wind_direction</th>\n",
       "      <th>wind_speed</th>\n",
       "    </tr>\n",
       "  </thead>\n",
       "  <tbody>\n",
       "    <tr>\n",
       "      <th>0</th>\n",
       "      <td>2015-01</td>\n",
       "      <td>Atlanta</td>\n",
       "      <td>4</td>\n",
       "      <td>68</td>\n",
       "      <td>1036</td>\n",
       "      <td>225</td>\n",
       "      <td>2</td>\n",
       "    </tr>\n",
       "    <tr>\n",
       "      <th>1</th>\n",
       "      <td>2015-01</td>\n",
       "      <td>Boston</td>\n",
       "      <td>-2</td>\n",
       "      <td>99</td>\n",
       "      <td>1030</td>\n",
       "      <td>235</td>\n",
       "      <td>5</td>\n",
       "    </tr>\n",
       "    <tr>\n",
       "      <th>2</th>\n",
       "      <td>2015-01</td>\n",
       "      <td>Chicago</td>\n",
       "      <td>-5</td>\n",
       "      <td>97</td>\n",
       "      <td>1035</td>\n",
       "      <td>218</td>\n",
       "      <td>4</td>\n",
       "    </tr>\n",
       "    <tr>\n",
       "      <th>3</th>\n",
       "      <td>2015-01</td>\n",
       "      <td>Detroit</td>\n",
       "      <td>-7</td>\n",
       "      <td>82</td>\n",
       "      <td>1034</td>\n",
       "      <td>214</td>\n",
       "      <td>4</td>\n",
       "    </tr>\n",
       "    <tr>\n",
       "      <th>4</th>\n",
       "      <td>2015-01</td>\n",
       "      <td>Los Angeles</td>\n",
       "      <td>9</td>\n",
       "      <td>58</td>\n",
       "      <td>1033</td>\n",
       "      <td>81</td>\n",
       "      <td>0</td>\n",
       "    </tr>\n",
       "  </tbody>\n",
       "</table>\n",
       "</div>"
      ],
      "text/plain": [
       "      date         city  temperature  humidity  pressure  wind_direction  \\\n",
       "0  2015-01      Atlanta            4        68      1036             225   \n",
       "1  2015-01       Boston           -2        99      1030             235   \n",
       "2  2015-01      Chicago           -5        97      1035             218   \n",
       "3  2015-01      Detroit           -7        82      1034             214   \n",
       "4  2015-01  Los Angeles            9        58      1033              81   \n",
       "\n",
       "   wind_speed  \n",
       "0           2  \n",
       "1           5  \n",
       "2           4  \n",
       "3           4  \n",
       "4           0  "
      ]
     },
     "execution_count": 11,
     "metadata": {},
     "output_type": "execute_result"
    }
   ],
   "source": [
    "meteo = [temperature, humidity, pressure, wind_direction, wind_speed]\n",
    "meteo = reduce(lambda left,right: pd.merge(left,right,on=['date', 'city']), meteo)\n",
    "# meteo = meteo[meteo['date'] >= '2016-11-30']\n",
    "meteo['date'] = meteo['date'].apply(lambda x: x[:-3])\n",
    "meteo = meteo.groupby(['date', 'city'], as_index=False).mean()\n",
    "meteo.dropna(inplace=True)\n",
    "for col in meteo.columns[2:]:\n",
    "    meteo[col] = meteo[col].astype(int)\n",
    "print(meteo.shape)\n",
    "meteo.head()"
   ]
  },
  {
   "cell_type": "code",
   "execution_count": 12,
   "metadata": {},
   "outputs": [
    {
     "data": {
      "text/plain": [
       "'[{date:\"2015-01\",city:\"Atlanta\",temperature:4,humidity:68,pressure:1036,wind_direction:225,wind_speed:2},{date:\"2015-01\",city:\"Boston\",temperature:-2,humidity:99,pressure:1030,wind_direction:235,wind_speed:5},{date:\"2015-01\",city:\"Chicago\",temperature:-5,humidity:97,pressure:1035,wind_direction:218,wind_speed:4},{date:\"2015-01\",city:\"Detroit\",temperature:-7,humidity:82,pressure:1034,wind_direction:214,wind_speed:4},{date:\"2015-01\",city:\"Los Angeles\",temperature:9,humidity:58,pressure:1033,wind_direction:81,wind_speed:0},{date:\"2015-01\",city:\"Miami\",temperature:20,humidity:82,pressure:1033,wind_direction:163,wind_speed:3},{date:\"2015-01\",city:\"New York\",temperature:-4,humidity:78,pressure:1018,wind_direction:230,wind_speed:2},{date:\"2015-01\",city:\"Seattle\",temperature:5,humidity:97,pressure:1036,wind_direction:129,wind_speed:1},{date:\"2015-02\",city:\"Atlanta\",temperature:3,humidity:65,pressure:1034,wind_direction:251,wind_speed:3},{date:\"2015-02\",city:\"Boston\",temperature:-5,humidity:99,pressure:1029,wind_direction:226,wind_speed:5},{date:\"2015-02\",city:\"Chicago\",temperature:-10,humidity:86,pressure:1036,wind_direction:224,wind_speed:4},{date:\"2015-02\",city:\"Detroit\",temperature:-12,humidity:78,pressure:1035,wind_direction:222,wind_speed:3},{date:\"2015-02\",city:\"Los Angeles\",temperature:11,humidity:64,pressure:1029,wind_direction:132,wind_speed:0},{date:\"2015-02\",city:\"Miami\",temperature:19,humidity:78,pressure:1031,wind_direction:191,wind_speed:4},{date:\"2015-02\",city:\"New York\",temperature:-7,humidity:80,pressure:1017,wind_direction:218,wind_speed:2},{date:\"2015-02\",city:\"Seattle\",temperature:7,humidity:92,pressure:1032,wind_direction:125,wind_speed:1},{date:\"2015-03\",city:\"Atlanta\",temperature:13,humidity:73,pressure:1034,wind_direction:205,wind_speed:2},{date:\"2015-03\",city:\"Boston\",temperature:0,humidity:93,pressure:1030,wind_direction:249,wind_speed:4},{date:\"2015-03\",city:\"Chicago\",temperature:0,humidity:84,pressure:1035,wind_direction:203,wind_speed:3},{date:\"2015-03\",city:\"Detroit\",temperature:-1,humidity:78,pressure:1034,wind_direction:223,wind_speed:3},{date:\"2015-03\",city:\"Los Angeles\",temperature:14,humidity:52,pressure:1029,wind_direction:128,wind_speed:0},{date:\"2015-03\",city:\"Miami\",temperature:23,humidity:75,pressure:1032,wind_direction:143,wind_speed:3},{date:\"2015-03\",city:\"New York\",temperature:1,humidity:79,pressure:1027,wind_direction:244,wind_speed:2},{date:\"2015-03\",city:\"Seattle\",temperature:8,humidity:85,pressure:1033,wind_direction:165,wind_speed:1},{date:\"2015-04\",city:\"Atlanta\",temperature:18,humidity:71,pressure:1029,wind_direction:200,wind_speed:2},{date:\"2015-04\",city:\"Boston\",temperature:7,humidity:77,pressure:1027,wind_direction:205,wind_speed:3},{date:\"2015-04\",city:\"Chicago\",temperature:7,humidity:75,pressure:1027,wind_direction:171,wind_speed:3},{date:\"2015-04\",city:\"Detroit\",temperature:7,humidity:72,pressure:1028,wind_direction:182,wind_speed:3},{date:\"2015-04\",city:\"Los Angeles\",temperature:13,humidity:56,pressure:1026,wind_direction:153,wind_speed:0},{date:\"2015-04\",city:\"Miami\",temperature:25,humidity:80,pressure:1029,wind_direction:148,wind_speed:3},{date:\"2015-04\",city:\"New York\",temperature:10,humidity:63,pressure:1024,wind_direction:222,wind_speed:2},{date:\"2015-04\",city:\"Seattle\",temperature:9,humidity:77,pressure:1031,wind_direction:182,wind_speed:1},{date:\"2015-05\",city:\"Atlanta\",temperature:22,humidity:60,pressure:1033,wind_direction:171,wind_speed:2},{date:\"2015-05\",city:\"Boston\",temperature:14,humidity:72,pressure:1032,wind_direction:193,wind_speed:3},{date:\"2015-05\",city:\"Chicago\",temperature:12,humidity:74,pressure:1031,wind_direction:165,wind_speed:3},{date:\"2015-05\",city:\"Detroit\",temperature:15,humidity:69,pressure:1032,wind_direction:183,wind_speed:3},{date:\"2015-05\",city:\"Los Angeles\",temperature:14,humidity:73,pressure:1026,wind_direction:174,wind_speed:0},{date:\"2015-05\",city:\"Miami\",temperature:26,humidity:74,pressure:1031,wind_direction:108,wind_speed:4},{date:\"2015-05\",city:\"New York\",temperature:18,humidity:60,pressure:1022,wind_direction:212,wind_speed:1},{date:\"2015-05\",city:\"Seattle\",temperature:14,humidity:71,pressure:1028,wind_direction:207,wind_speed:1},{date:\"2015-06\",city:\"Atlanta\",temperature:25,humidity:69,pressure:1024,wind_direction:222,wind_speed:1},{date:\"2015-06\",city:\"Boston\",temperature:16,humidity:79,pressure:1025,wind_direction:162,wind_speed:3},{date:\"2015-06\",city:\"Chicago\",temperature:16,humidity:80,pressure:1023,wind_direction:150,wind_speed:2},{date:\"2015-06\",city:\"Detroit\",temperature:18,humidity:80,pressure:1023,wind_direction:161,wind_speed:2},{date:\"2015-06\",city:\"Los Angeles\",temperature:20,humidity:69,pressure:1017,wind_direction:180,wind_speed:0},{date:\"2015-06\",city:\"Miami\",temperature:27,humidity:79,pressure:1028,wind_direction:113,wind_speed:2},{date:\"2015-06\",city:\"New York\",temperature:20,humidity:74,pressure:1019,wind_direction:169,wind_speed:2},{date:\"2015-06\",city:\"Seattle\",temperature:18,humidity:59,pressure:1026,wind_direction:211,wind_speed:1},{date:\"2015-07\",city:\"Atlanta\",temperature:26,humidity:72,pressure:1016,wind_direction:219,wind_speed:2},{date:\"2015-07\",city:\"Boston\",temperature:22,humidity:77,pressure:1013,wind_direction:179,wind_speed:3},{date:\"2015-07\",city:\"Chicago\",temperature:22,humidity:64,pressure:1014,wind_direction:161,wind_speed:3},{date:\"2015-07\",city:\"Detroit\",temperature:22,humidity:66,pressure:1014,wind_direction:194,wind_speed:2},{date:\"2015-07\",city:\"Los Angeles\",temperature:22,humidity:71,pressure:1013,wind_direction:197,wind_speed:2},{date:\"2015-07\",city:\"Miami\",temperature:28,humidity:68,pressure:1017,wind_direction:160,wind_speed:3},{date:\"2015-07\",city:\"New York\",temperature:24,humidity:68,pressure:1013,wind_direction:206,wind_speed:2},{date:\"2015-07\",city:\"Seattle\",temperature:20,humidity:63,pressure:1016,wind_direction:140,wind_speed:2},{date:\"2015-08\",city:\"Atlanta\",temperature:25,humidity:72,pressure:1016,wind_direction:180,wind_speed:2},{date:\"2015-08\",city:\"Boston\",temperature:22,humidity:78,pressure:1015,wind_direction:157,wind_speed:3},{date:\"2015-08\",city:\"Chicago\",temperature:21,humidity:64,pressure:1015,wind_direction:192,wind_speed:3},{date:\"2015-08\",city:\"Detroit\",temperature:21,humidity:68,pressure:1016,wind_direction:208,wind_speed:2},{date:\"2015-08\",city:\"Los Angeles\",temperature:24,humidity:67,pressure:1012,wind_direction:183,wind_speed:2},{date:\"2015-08\",city:\"Miami\",temperature:28,humidity:73,pressure:1015,wind_direction:149,wind_speed:2},{date:\"2015-08\",city:\"New York\",temperature:24,humidity:65,pressure:1015,wind_direction:215,wind_speed:2},{date:\"2015-08\",city:\"Seattle\",temperature:19,humidity:66,pressure:1016,wind_direction:140,wind_speed:2},{date:\"2015-09\",city:\"Atlanta\",temperature:21,humidity:77,pressure:1017,wind_direction:134,wind_speed:2},{date:\"2015-09\",city:\"Boston\",temperature:19,humidity:81,pressure:1018,wind_direction:148,wind_speed:3},{date:\"2015-09\",city:\"Chicago\",temperature:20,humidity:67,pressure:1018,wind_direction:161,wind_speed:3},{date:\"2015-09\",city:\"Detroit\",temperature:19,humidity:70,pressure:1019,wind_direction:182,wind_speed:2},{date:\"2015-09\",city:\"Los Angeles\",temperature:24,humidity:64,pressure:1011,wind_direction:171,wind_speed:1},{date:\"2015-09\",city:\"Miami\",temperature:27,humidity:80,pressure:1014,wind_direction:151,wind_speed:2},{date:\"2015-09\",city:\"New York\",temperature:21,humidity:69,pressure:1018,wind_direction:154,wind_speed:2},{date:\"2015-09\",city:\"Seattle\",temperature:14,humidity:78,pressure:1017,wind_direction:139,wind_speed:2},{date:\"2015-10\",city:\"Atlanta\",temperature:16,humidity:76,pressure:1020,wind_direction:157,wind_speed:2},{date:\"2015-10\",city:\"Boston\",temperature:11,humidity:79,pressure:1021,wind_direction:182,wind_speed:3},{date:\"2015-10\",city:\"Chicago\",temperature:12,humidity:67,pressure:1020,wind_direction:185,wind_speed:4},{date:\"2015-10\",city:\"Detroit\",temperature:11,humidity:71,pressure:1021,wind_direction:188,wind_speed:3},{date:\"2015-10\",city:\"Los Angeles\",temperature:21,humidity:60,pressure:1014,wind_direction:156,wind_speed:1},{date:\"2015-10\",city:\"Miami\",temperature:26,humidity:75,pressure:1016,wind_direction:151,wind_speed:3},{date:\"2015-10\",city:\"New York\",temperature:12,humidity:68,pressure:1019,wind_direction:191,wind_speed:3},{date:\"2015-10\",city:\"Seattle\",temperature:13,humidity:86,pressure:1019,wind_direction:123,wind_speed:2},{date:\"2015-11\",city:\"Atlanta\",temperature:13,humidity:76,pressure:1022,wind_direction:174,wind_speed:2},{date:\"2015-11\",city:\"Boston\",temperature:8,humidity:77,pressure:1023,wind_direction:186,wind_speed:3},{date:\"2015-11\",city:\"Chicago\",temperature:7,humidity:74,pressure:1019,wind_direction:192,wind_speed:4},{date:\"2015-11\",city:\"Detroit\",temperature:7,humidity:72,pressure:1020,wind_direction:202,wind_speed:3},{date:\"2015-11\",city:\"Los Angeles\",temperature:15,humidity:43,pressure:1016,wind_direction:134,wind_speed:1},{date:\"2015-11\",city:\"Miami\",temperature:25,humidity:77,pressure:1018,wind_direction:117,wind_speed:4},{date:\"2015-11\",city:\"New York\",temperature:10,humidity:65,pressure:1022,wind_direction:192,wind_speed:3},{date:\"2015-11\",city:\"Seattle\",temperature:5,humidity:87,pressure:1019,wind_direction:151,wind_speed:2},{date:\"2015-12\",city:\"Atlanta\",temperature:13,humidity:81,pressure:1020,wind_direction:193,wind_speed:2},{date:\"2015-12\",city:\"Boston\",temperature:6,humidity:81,pressure:1020,wind_direction:191,wind_speed:3},{date:\"2015-12\",city:\"Chicago\",temperature:4,humidity:82,pressure:1015,wind_direction:197,wind_speed:4},{date:\"2015-12\",city:\"Detroit\",temperature:4,humidity:82,pressure:1016,wind_direction:197,wind_speed:3},{date:\"2015-12\",city:\"Los Angeles\",temperature:11,humidity:50,pressure:1018,wind_direction:141,wind_speed:1},{date:\"2015-12\",city:\"Miami\",temperature:24,humidity:81,pressure:1018,wind_direction:129,wind_speed:3},{date:\"2015-12\",city:\"New York\",temperature:8,humidity:74,pressure:1019,wind_direction:183,wind_speed:3},{date:\"2015-12\",city:\"Seattle\",temperature:5,humidity:88,pressure:1012,wind_direction:147,wind_speed:3},{date:\"2016-01\",city:\"Atlanta\",temperature:4,humidity:69,pressure:1019,wind_direction:221,wind_speed:2},{date:\"2016-01\",city:\"Boston\",temperature:0,humidity:72,pressure:1017,wind_direction:230,wind_speed:3},{date:\"2016-01\",city:\"Chicago\",temperature:-3,humidity:75,pressure:1017,wind_direction:233,wind_speed:4},{date:\"2016-01\",city:\"Detroit\",temperature:-2,humidity:74,pressure:1016,wind_direction:214,wind_speed:3},{date:\"2016-01\",city:\"Los Angeles\",temperature:12,humidity:65,pressure:1019,wind_direction:124,wind_speed:1},{date:\"2016-01\",city:\"Miami\",temperature:19,humidity:74,pressure:1017,wind_direction:207,wind_speed:3},{date:\"2016-01\",city:\"New York\",temperature:0,humidity:61,pressure:1016,wind_direction:224,wind_speed:4},{date:\"2016-01\",city:\"Seattle\",temperature:5,humidity:92,pressure:1015,wind_direction:139,wind_speed:2},{date:\"2016-02\",city:\"Atlanta\",temperature:8,humidity:63,pressure:1019,wind_direction:236,wind_speed:3},{date:\"2016-02\",city:\"Boston\",temperature:0,humidity:75,pressure:1017,wind_direction:183,wind_speed:4},{date:\"2016-02\",city:\"Chicago\",temperature:0,humidity:71,pressure:1016,wind_direction:231,wind_speed:4},{date:\"2016-02\",city:\"Detroit\",temperature:0,humidity:72,pressure:1015,wind_direction:213,wind_speed:3},{date:\"2016-02\",city:\"Los Angeles\",temperature:16,humidity:49,pressure:1018,wind_direction:137,wind_speed:1},{date:\"2016-02\",city:\"Miami\",temperature:19,humidity:66,pressure:1020,wind_direction:186,wind_speed:3},{date:\"2016-02\",city:\"New York\",temperature:2,humidity:62,pressure:1016,wind_direction:203,wind_speed:4},{date:\"2016-02\",city:\"Seattle\",temperature:7,humidity:89,pressure:1021,wind_direction:152,wind_speed:2},{date:\"2016-03\",city:\"Atlanta\",temperature:14,humidity:64,pressure:1018,wind_direction:209,wind_speed:2},{date:\"2016-03\",city:\"Boston\",temperature:5,humidity:75,pressure:1018,wind_direction:163,wind_speed:4},{date:\"2016-03\",city:\"Chicago\",temperature:6,humidity:72,pressure:1015,wind_direction:174,wind_speed:4},{date:\"2016-03\",city:\"Detroit\",temperature:5,humidity:71,pressure:1016,wind_direction:176,wind_speed:3},{date:\"2016-03\",city:\"Los Angeles\",temperature:15,humidity:67,pressure:1016,wind_direction:177,wind_speed:2},{date:\"2016-03\",city:\"Miami\",temperature:23,humidity:70,pressure:1018,wind_direction:163,wind_speed:3},{date:\"2016-03\",city:\"New York\",temperature:8,humidity:56,pressure:1017,wind_direction:195,wind_speed:4},{date:\"2016-03\",city:\"Seattle\",temperature:8,humidity:83,pressure:1014,wind_direction:151,wind_speed:3},{date:\"2016-04\",city:\"Atlanta\",temperature:17,humidity:59,pressure:1017,wind_direction:193,wind_speed:2},{date:\"2016-04\",city:\"Boston\",temperature:8,humidity:68,pressure:1017,wind_direction:158,wind_speed:4},{date:\"2016-04\",city:\"Chicago\",temperature:8,humidity:64,pressure:1016,wind_direction:168,wind_speed:4},{date:\"2016-04\",city:\"Detroit\",temperature:7,humidity:62,pressure:1017,wind_direction:148,wind_speed:3},{date:\"2016-04\",city:\"Los Angeles\",temperature:17,humidity:60,pressure:1013,wind_direction:169,wind_speed:2},{date:\"2016-04\",city:\"Miami\",temperature:24,humidity:63,pressure:1017,wind_direction:128,wind_speed:3},{date:\"2016-04\",city:\"New York\",temperature:10,humidity:54,pressure:1016,wind_direction:175,wind_speed:3},{date:\"2016-04\",city:\"Seattle\",temperature:12,humidity:74,pressure:1018,wind_direction:153,wind_speed:2},{date:\"2016-05\",city:\"Atlanta\",temperature:20,humidity:64,pressure:1016,wind_direction:205,wind_speed:2},{date:\"2016-05\",city:\"Boston\",temperature:14,humidity:73,pressure:1014,wind_direction:160,wind_speed:3},{date:\"2016-05\",city:\"Chicago\",temperature:15,humidity:58,pressure:1015,wind_direction:171,wind_speed:4},{date:\"2016-05\",city:\"Detroit\",temperature:15,humidity:66,pressure:1015,wind_direction:162,wind_speed:3},{date:\"2016-05\",city:\"Los Angeles\",temperature:17,humidity:70,pressure:1014,wind_direction:190,wind_speed:2},{date:\"2016-05\",city:\"Miami\",temperature:26,humidity:66,pressure:1016,wind_direction:146,wind_speed:3},{date:\"2016-05\",city:\"New York\",temperature:15,humidity:69,pressure:1014,wind_direction:164,wind_speed:3},{date:\"2016-05\",city:\"Seattle\",temperature:14,humidity:70,pressure:1017,wind_direction:139,wind_speed:2},{date:\"2016-06\",city:\"Atlanta\",temperature:25,humidity:62,pressure:1015,wind_direction:213,wind_speed:2},{date:\"2016-06\",city:\"Boston\",temperature:19,humidity:68,pressure:1011,wind_direction:156,wind_speed:2},{date:\"2016-06\",city:\"Chicago\",temperature:21,humidity:62,pressure:1013,wind_direction:177,wind_speed:2},{date:\"2016-06\",city:\"Detroit\",temperature:21,humidity:59,pressure:1013,wind_direction:186,wind_speed:3},{date:\"2016-06\",city:\"Los Angeles\",temperature:22,humidity:67,pressure:1013,wind_direction:177,wind_speed:1},{date:\"2016-06\",city:\"Miami\",temperature:27,humidity:78,pressure:1013,wind_direction:165,wind_speed:3},{date:\"2016-06\",city:\"New York\",temperature:21,humidity:59,pressure:1013,wind_direction:202,wind_speed:2},{date:\"2016-06\",city:\"Seattle\",temperature:15,humidity:69,pressure:1017,wind_direction:176,wind_speed:1},{date:\"2016-07\",city:\"Atlanta\",temperature:27,humidity:70,pressure:1013,wind_direction:206,wind_speed:1},{date:\"2016-07\",city:\"Boston\",temperature:22,humidity:78,pressure:1017,wind_direction:190,wind_speed:3},{date:\"2016-07\",city:\"Chicago\",temperature:23,humidity:73,pressure:1013,wind_direction:171,wind_speed:3},{date:\"2016-07\",city:\"Detroit\",temperature:24,humidity:70,pressure:1012,wind_direction:186,wind_speed:3},{date:\"2016-07\",city:\"Los Angeles\",temperature:24,humidity:63,pressure:1001,wind_direction:186,wind_speed:1},{date:\"2016-07\",city:\"Miami\",temperature:29,humidity:71,pressure:1021,wind_direction:116,wind_speed:3},{date:\"2016-07\",city:\"New York\",temperature:24,humidity:72,pressure:1016,wind_direction:209,wind_speed:2},{date:\"2016-07\",city:\"Seattle\",temperature:17,humidity:71,pressure:1019,wind_direction:177,wind_speed:2},{date:\"2016-08\",city:\"Atlanta\",temperature:26,humidity:73,pressure:1016,wind_direction:164,wind_speed:2},{date:\"2016-08\",city:\"Boston\",temperature:23,humidity:74,pressure:1016,wind_direction:167,wind_speed:2},{date:\"2016-08\",city:\"Chicago\",temperature:23,humidity:72,pressure:1014,wind_direction:179,wind_speed:2},{date:\"2016-08\",city:\"Detroit\",temperature:24,humidity:72,pressure:1015,wind_direction:190,wind_speed:2},{date:\"2016-08\",city:\"Los Angeles\",temperature:23,humidity:66,pressure:1011,wind_direction:162,wind_speed:1},{date:\"2016-08\",city:\"Miami\",temperature:28,humidity:78,pressure:1016,wind_direction:122,wind_speed:3},{date:\"2016-08\",city:\"New York\",temperature:25,humidity:64,pressure:1017,wind_direction:187,wind_speed:2},{date:\"2016-08\",city:\"Seattle\",temperature:18,humidity:67,pressure:1016,wind_direction:180,wind_speed:1},{date:\"2016-09\",city:\"Atlanta\",temperature:24,humidity:70,pressure:1018,wind_direction:165,wind_speed:1},{date:\"2016-09\",city:\"Boston\",temperature:18,humidity:80,pressure:1019,wind_direction:156,wind_speed:3},{date:\"2016-09\",city:\"Chicago\",temperature:20,humidity:70,pressure:1016,wind_direction:169,wind_speed:3},{date:\"2016-09\",city:\"Detroit\",temperature:19,humidity:72,pressure:1018,wind_direction:164,wind_speed:2},{date:\"2016-09\",city:\"Los Angeles\",temperature:22,humidity:61,pressure:1013,wind_direction:165,wind_speed:1},{date:\"2016-09\",city:\"Miami\",temperature:27,humidity:79,pressure:1016,wind_direction:135,wind_speed:2},{date:\"2016-09\",city:\"New York\",temperature:21,humidity:66,pressure:1018,wind_direction:146,wind_speed:3},{date:\"2016-09\",city:\"Seattle\",temperature:14,humidity:75,pressure:1018,wind_direction:164,wind_speed:2},{date:\"2016-10\",city:\"Atlanta\",temperature:18,humidity:61,pressure:1002,wind_direction:182,wind_speed:2},{date:\"2016-10\",city:\"Boston\",temperature:12,humidity:93,pressure:1028,wind_direction:191,wind_speed:4},{date:\"2016-10\",city:\"Chicago\",temperature:14,humidity:92,pressure:1010,wind_direction:206,wind_speed:4},{date:\"2016-10\",city:\"Detroit\",temperature:13,humidity:88,pressure:1010,wind_direction:211,wind_speed:3},{date:\"2016-10\",city:\"Los Angeles\",temperature:16,humidity:61,pressure:968,wind_direction:126,wind_speed:0},{date:\"2016-10\",city:\"Miami\",temperature:25,humidity:82,pressure:1024,wind_direction:103,wind_speed:5},{date:\"2016-10\",city:\"New York\",temperature:14,humidity:86,pressure:1027,wind_direction:186,wind_speed:2},{date:\"2016-10\",city:\"Seattle\",temperature:11,humidity:94,pressure:1012,wind_direction:154,wind_speed:2},{date:\"2016-11\",city:\"Atlanta\",temperature:13,humidity:59,pressure:1020,wind_direction:196,wind_speed:2},{date:\"2016-11\",city:\"Boston\",temperature:6,humidity:75,pressure:1017,wind_direction:222,wind_speed:3},{date:\"2016-11\",city:\"Chicago\",temperature:8,humidity:73,pressure:1018,wind_direction:211,wind_speed:3},{date:\"2016-11\",city:\"Detroit\",temperature:7,humidity:72,pressure:1018,wind_direction:225,wind_speed:3},{date:\"2016-11\",city:\"Los Angeles\",temperature:17,humidity:60,pressure:1015,wind_direction:125,wind_speed:1},{date:\"2016-11\",city:\"Miami\",temperature:23,humidity:66,pressure:1018,wind_direction:130,wind_speed:3},{date:\"2016-11\",city:\"New York\",temperature:8,humidity:63,pressure:1017,wind_direction:252,wind_speed:3},{date:\"2016-11\",city:\"Seattle\",temperature:9,humidity:89,pressure:1014,wind_direction:168,wind_speed:2},{date:\"2016-12\",city:\"Atlanta\",temperature:8,humidity:70,pressure:1022,wind_direction:216,wind_speed:2},{date:\"2016-12\",city:\"Boston\",temperature:0,humidity:72,pressure:1020,wind_direction:213,wind_speed:3},{date:\"2016-12\",city:\"Chicago\",temperature:-3,humidity:78,pressure:1020,wind_direction:234,wind_speed:4},{date:\"2016-12\",city:\"Detroit\",temperature:-1,humidity:74,pressure:1018,wind_direction:228,wind_speed:3},{date:\"2016-12\",city:\"Los Angeles\",temperature:13,humidity:62,pressure:1017,wind_direction:116,wind_speed:1},{date:\"2016-12\",city:\"Miami\",temperature:23,humidity:77,pressure:1020,wind_direction:146,wind_speed:3},{date:\"2016-12\",city:\"New York\",temperature:2,humidity:66,pressure:1019,wind_direction:236,wind_speed:3},{date:\"2016-12\",city:\"Seattle\",temperature:2,humidity:83,pressure:1020,wind_direction:137,wind_speed:2},{date:\"2017-01\",city:\"Atlanta\",temperature:10,humidity:73,pressure:1017,wind_direction:221,wind_speed:2},{date:\"2017-01\",city:\"Boston\",temperature:1,humidity:80,pressure:1017,wind_direction:185,wind_speed:3},{date:\"2017-01\",city:\"Chicago\",temperature:-1,humidity:83,pressure:1015,wind_direction:219,wind_speed:4},{date:\"2017-01\",city:\"Detroit\",temperature:0,humidity:79,pressure:1014,wind_direction:200,wind_speed:3},{date:\"2017-01\",city:\"Los Angeles\",temperature:12,humidity:71,pressure:1016,wind_direction:129,wind_speed:1},{date:\"2017-01\",city:\"Miami\",temperature:21,humidity:68,pressure:1020,wind_direction:179,wind_speed:3},{date:\"2017-01\",city:\"New York\",temperature:2,humidity:72,pressure:1016,wind_direction:213,wind_speed:3},{date:\"2017-01\",city:\"Seattle\",temperature:2,humidity:78,pressure:1016,wind_direction:126,wind_speed:1},{date:\"2017-02\",city:\"Atlanta\",temperature:11,humidity:68,pressure:1013,wind_direction:220,wind_speed:2},{date:\"2017-02\",city:\"Boston\",temperature:1,humidity:81,pressure:1017,wind_direction:212,wind_speed:4},{date:\"2017-02\",city:\"Chicago\",temperature:2,humidity:77,pressure:1012,wind_direction:225,wind_speed:4},{date:\"2017-02\",city:\"Detroit\",temperature:1,humidity:71,pressure:1011,wind_direction:221,wind_speed:3},{date:\"2017-02\",city:\"Los Angeles\",temperature:12,humidity:75,pressure:1003,wind_direction:152,wind_speed:1},{date:\"2017-02\",city:\"Miami\",temperature:22,humidity:73,pressure:1021,wind_direction:157,wind_speed:3},{date:\"2017-02\",city:\"New York\",temperature:3,humidity:74,pressure:1016,wind_direction:226,wind_speed:3},{date:\"2017-02\",city:\"Seattle\",temperature:4,humidity:86,pressure:1012,wind_direction:144,wind_speed:2},{date:\"2017-03\",city:\"Atlanta\",temperature:13,humidity:57,pressure:1022,wind_direction:219,wind_speed:3},{date:\"2017-03\",city:\"Boston\",temperature:0,humidity:68,pressure:1020,wind_direction:182,wind_speed:4},{date:\"2017-03\",city:\"Chicago\",temperature:3,humidity:68,pressure:1020,wind_direction:178,wind_speed:4},{date:\"2017-03\",city:\"Detroit\",temperature:2,humidity:64,pressure:1020,wind_direction:201,wind_speed:3},{date:\"2017-03\",city:\"Los Angeles\",temperature:16,humidity:64,pressure:1017,wind_direction:157,wind_speed:2},{date:\"2017-03\",city:\"Miami\",temperature:22,humidity:63,pressure:1020,wind_direction:139,wind_speed:3},{date:\"2017-03\",city:\"New York\",temperature:3,humidity:55,pressure:1020,wind_direction:218,wind_speed:4},{date:\"2017-03\",city:\"Seattle\",temperature:7,humidity:86,pressure:1016,wind_direction:165,wind_speed:3},{date:\"2017-04\",city:\"Atlanta\",temperature:19,humidity:66,pressure:1017,wind_direction:183,wind_speed:2},{date:\"2017-04\",city:\"Boston\",temperature:11,humidity:75,pressure:1018,wind_direction:156,wind_speed:4},{date:\"2017-04\",city:\"Chicago\",temperature:12,humidity:67,pressure:1014,wind_direction:165,wind_speed:4},{date:\"2017-04\",city:\"Detroit\",temperature:11,humidity:61,pressure:1015,wind_direction:180,wind_speed:3},{date:\"2017-04\",city:\"Los Angeles\",temperature:17,humidity:62,pressure:1015,wind_direction:177,wind_speed:2},{date:\"2017-04\",city:\"Miami\",temperature:25,humidity:65,pressure:1017,wind_direction:130,wind_speed:4},{date:\"2017-04\",city:\"New York\",temperature:13,humidity:61,pressure:1016,wind_direction:178,wind_speed:4},{date:\"2017-04\",city:\"Seattle\",temperature:9,humidity:76,pressure:1015,wind_direction:160,wind_speed:2},{date:\"2017-05\",city:\"Atlanta\",temperature:20,humidity:72,pressure:1014,wind_direction:230,wind_speed:2},{date:\"2017-05\",city:\"Boston\",temperature:13,humidity:78,pressure:1013,wind_direction:173,wind_speed:4},{date:\"2017-05\",city:\"Chicago\",temperature:14,humidity:72,pressure:1011,wind_direction:169,wind_speed:4},{date:\"2017-05\",city:\"Detroit\",temperature:14,humidity:58,pressure:1011,wind_direction:180,wind_speed:3},{date:\"2017-05\",city:\"Los Angeles\",temperature:18,humidity:69,pressure:1013,wind_direction:179,wind_speed:2},{date:\"2017-05\",city:\"Miami\",temperature:27,humidity:67,pressure:1015,wind_direction:157,wind_speed:3},{date:\"2017-05\",city:\"New York\",temperature:15,humidity:64,pressure:1012,wind_direction:181,wind_speed:3},{date:\"2017-05\",city:\"Seattle\",temperature:13,humidity:73,pressure:1017,wind_direction:167,wind_speed:2},{date:\"2017-06\",city:\"Atlanta\",temperature:23,humidity:80,pressure:1017,wind_direction:198,wind_speed:1},{date:\"2017-06\",city:\"Boston\",temperature:20,humidity:77,pressure:1015,wind_direction:194,wind_speed:3},{date:\"2017-06\",city:\"Chicago\",temperature:22,humidity:57,pressure:1013,wind_direction:204,wind_speed:3},{date:\"2017-06\",city:\"Detroit\",temperature:21,humidity:54,pressure:1013,wind_direction:214,wind_speed:3},{date:\"2017-06\",city:\"Los Angeles\",temperature:21,humidity:74,pressure:1012,wind_direction:186,wind_speed:2},{date:\"2017-06\",city:\"Miami\",temperature:27,humidity:77,pressure:1016,wind_direction:135,wind_speed:3},{date:\"2017-06\",city:\"New York\",temperature:21,humidity:60,pressure:1013,wind_direction:207,wind_speed:2},{date:\"2017-06\",city:\"Seattle\",temperature:16,humidity:69,pressure:1017,wind_direction:180,wind_speed:2},{date:\"2017-07\",city:\"Atlanta\",temperature:26,humidity:82,pressure:1018,wind_direction:225,wind_speed:1},{date:\"2017-07\",city:\"Boston\",temperature:21,humidity:78,pressure:1015,wind_direction:186,wind_speed:3},{date:\"2017-07\",city:\"Chicago\",temperature:23,humidity:70,pressure:1016,wind_direction:171,wind_speed:3},{date:\"2017-07\",city:\"Detroit\",temperature:22,humidity:64,pressure:1016,wind_direction:210,wind_speed:2},{date:\"2017-07\",city:\"Los Angeles\",temperature:23,humidity:72,pressure:1013,wind_direction:177,wind_speed:1},{date:\"2017-07\",city:\"Miami\",temperature:29,humidity:72,pressure:1017,wind_direction:130,wind_speed:3},{date:\"2017-07\",city:\"New York\",temperature:24,humidity:66,pressure:1015,wind_direction:159,wind_speed:2},{date:\"2017-07\",city:\"Seattle\",temperature:18,humidity:66,pressure:1019,wind_direction:194,wind_speed:2},{date:\"2017-08\",city:\"Atlanta\",temperature:25,humidity:80,pressure:1017,wind_direction:174,wind_speed:1},{date:\"2017-08\",city:\"Boston\",temperature:21,humidity:74,pressure:1016,wind_direction:185,wind_speed:2},{date:\"2017-08\",city:\"Chicago\",temperature:21,humidity:69,pressure:1016,wind_direction:170,wind_speed:2},{date:\"2017-08\",city:\"Detroit\",temperature:21,humidity:65,pressure:1017,wind_direction:201,wind_speed:2},{date:\"2017-08\",city:\"Los Angeles\",temperature:23,humidity:70,pressure:1012,wind_direction:158,wind_speed:1},{date:\"2017-08\",city:\"Miami\",temperature:28,humidity:73,pressure:1016,wind_direction:135,wind_speed:3},{date:\"2017-08\",city:\"New York\",temperature:22,humidity:66,pressure:1017,wind_direction:154,wind_speed:2},{date:\"2017-08\",city:\"Seattle\",temperature:19,humidity:66,pressure:1016,wind_direction:172,wind_speed:2},{date:\"2017-09\",city:\"Atlanta\",temperature:22,humidity:77,pressure:1017,wind_direction:187,wind_speed:2},{date:\"2017-09\",city:\"Boston\",temperature:18,humidity:78,pressure:1016,wind_direction:181,wind_speed:3},{date:\"2017-09\",city:\"Chicago\",temperature:19,humidity:66,pressure:1018,wind_direction:157,wind_speed:3},{date:\"2017-09\",city:\"Detroit\",temperature:18,humidity:70,pressure:1018,wind_direction:172,wind_speed:2},{date:\"2017-09\",city:\"Los Angeles\",temperature:22,humidity:64,pressure:1011,wind_direction:136,wind_speed:1},{date:\"2017-09\",city:\"Miami\",temperature:28,humidity:78,pressure:1012,wind_direction:143,wind_speed:3},{date:\"2017-09\",city:\"New York\",temperature:20,humidity:66,pressure:1017,wind_direction:122,wind_speed:2},{date:\"2017-09\",city:\"Seattle\",temperature:16,humidity:71,pressure:1015,wind_direction:172,wind_speed:2},{date:\"2017-10\",city:\"Atlanta\",temperature:17,humidity:77,pressure:1019,wind_direction:168,wind_speed:2},{date:\"2017-10\",city:\"Boston\",temperature:15,humidity:77,pressure:1018,wind_direction:185,wind_speed:3},{date:\"2017-10\",city:\"Chicago\",temperature:13,humidity:71,pressure:1016,wind_direction:189,wind_speed:3},{date:\"2017-10\",city:\"Detroit\",temperature:13,humidity:73,pressure:1016,wind_direction:192,wind_speed:3},{date:\"2017-10\",city:\"Los Angeles\",temperature:21,humidity:55,pressure:1012,wind_direction:106,wind_speed:1},{date:\"2017-10\",city:\"Miami\",temperature:26,humidity:78,pressure:1014,wind_direction:111,wind_speed:4},{date:\"2017-10\",city:\"New York\",temperature:16,humidity:65,pressure:1021,wind_direction:122,wind_speed:2},{date:\"2017-10\",city:\"Seattle\",temperature:10,humidity:80,pressure:1019,wind_direction:158,wind_speed:2},{date:\"2017-11\",city:\"Atlanta\",temperature:12,humidity:76,pressure:1020,wind_direction:201,wind_speed:2},{date:\"2017-11\",city:\"Boston\",temperature:6,humidity:69,pressure:1018,wind_direction:215,wind_speed:3},{date:\"2017-11\",city:\"Chicago\",temperature:4,humidity:75,pressure:1019,wind_direction:207,wind_speed:3},{date:\"2017-11\",city:\"Detroit\",temperature:4,humidity:71,pressure:1018,wind_direction:214,wind_speed:3},{date:\"2017-11\",city:\"Los Angeles\",temperature:17,humidity:62,pressure:1016,wind_direction:135,wind_speed:0},{date:\"2017-11\",city:\"Seattle\",temperature:7,humidity:84,pressure:1013,wind_direction:152,wind_speed:3}]'"
      ]
     },
     "execution_count": 12,
     "metadata": {},
     "output_type": "execute_result"
    }
   ],
   "source": [
    "str_ = format_str(meteo.to_json(orient='records'))\n",
    "str_"
   ]
  },
  {
   "cell_type": "code",
   "execution_count": 13,
   "metadata": {},
   "outputs": [
    {
     "data": {
      "text/plain": [
       "29194"
      ]
     },
     "execution_count": 13,
     "metadata": {},
     "output_type": "execute_result"
    }
   ],
   "source": [
    "len(str_)"
   ]
  },
  {
   "cell_type": "code",
   "execution_count": 14,
   "metadata": {},
   "outputs": [],
   "source": [
    "meteo.to_csv('meteo_data.csv', index=False)"
   ]
  },
  {
   "cell_type": "code",
   "execution_count": null,
   "metadata": {},
   "outputs": [],
   "source": []
  }
 ],
 "metadata": {
  "kernelspec": {
   "display_name": "Python 3",
   "language": "python",
   "name": "python3"
  },
  "language_info": {
   "codemirror_mode": {
    "name": "ipython",
    "version": 3
   },
   "file_extension": ".py",
   "mimetype": "text/x-python",
   "name": "python",
   "nbconvert_exporter": "python",
   "pygments_lexer": "ipython3",
   "version": "3.7.4"
  }
 },
 "nbformat": 4,
 "nbformat_minor": 2
}
